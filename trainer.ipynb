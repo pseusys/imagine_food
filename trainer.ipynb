{
 "cells": [
  {
   "cell_type": "code",
   "execution_count": null,
   "metadata": {},
   "outputs": [],
   "source": [
    "from database_manager import load_database\n",
    "\n",
    "\n",
    "load_database(\n",
    "    \"allergen30\",\n",
    "    \"https://prod-dcd-datasets-cache-zipfiles.s3.eu-west-1.amazonaws.com/9ygs9vhnpw-1.zip\",\n",
    "    \"ab6e19d32f7490988ca77d600fc6f3df2e8648365c4c92ced8c1b462c01d9d9f\"\n",
    ")"
   ]
  },
  {
   "cell_type": "code",
   "execution_count": null,
   "metadata": {},
   "outputs": [],
   "source": [
    "from ultralytics import YOLO\n",
    "\n",
    "YOLO_VERSION = \"yolo11n.pt\"\n",
    "\n",
    "\n",
    "model = YOLO(YOLO_VERSION)\n",
    "\n",
    "for k, v in model.named_parameters():\n",
    "    print(k)"
   ]
  },
  {
   "cell_type": "code",
   "execution_count": null,
   "metadata": {},
   "outputs": [],
   "source": [
    "FREEZE_LAYERS = 10\n",
    "EPOCHS_NUMBER = 50\n",
    "BATCH_SIZE = 16\n",
    "IMAGE_SIZE = 416\n",
    "\n",
    "\n",
    "model.train(\n",
    "    data=\"datasets/allergen30.yaml\",\n",
    "    epochs=EPOCHS_NUMBER,\n",
    "    batch=BATCH_SIZE,\n",
    "    freeze=FREEZE_LAYERS,\n",
    "    imgsz=IMAGE_SIZE\n",
    ")"
   ]
  }
 ],
 "metadata": {
  "kernelspec": {
   "display_name": "imagine-food-UNaghh-j-py3.10",
   "language": "python",
   "name": "python3"
  },
  "language_info": {
   "codemirror_mode": {
    "name": "ipython",
    "version": 3
   },
   "file_extension": ".py",
   "mimetype": "text/x-python",
   "name": "python",
   "nbconvert_exporter": "python",
   "pygments_lexer": "ipython3",
   "version": "3.10.12"
  }
 },
 "nbformat": 4,
 "nbformat_minor": 2
}
